{
 "cells": [
  {
   "cell_type": "markdown",
   "id": "5e11e164",
   "metadata": {
    "papermill": {
     "duration": 0.010408,
     "end_time": "2022-06-25T23:30:38.509735",
     "exception": false,
     "start_time": "2022-06-25T23:30:38.499327",
     "status": "completed"
    },
    "tags": []
   },
   "source": [
    "**This notebook is an exercise in the [Data Visualization](https://www.kaggle.com/learn/data-visualization) course.  You can reference the tutorial at [this link](https://www.kaggle.com/alexisbcook/scatter-plots).**\n",
    "\n",
    "---\n"
   ]
  },
  {
   "cell_type": "markdown",
   "id": "7eabe813",
   "metadata": {
    "papermill": {
     "duration": 0.008923,
     "end_time": "2022-06-25T23:30:38.528253",
     "exception": false,
     "start_time": "2022-06-25T23:30:38.519330",
     "status": "completed"
    },
    "tags": []
   },
   "source": [
    "In this exercise, you will use your new knowledge to propose a solution to a real-world scenario.  To succeed, you will need to import data into Python, answer questions using the data, and generate **scatter plots** to understand patterns in the data.\n",
    "\n",
    "## Scenario\n",
    "\n",
    "You work for a major candy producer, and your goal is to write a report that your company can use to guide the design of its next product.  Soon after starting your research, you stumble across this [very interesting dataset](https://fivethirtyeight.com/features/the-ultimate-halloween-candy-power-ranking/) containing results from a fun survey to crowdsource favorite candies.\n",
    "\n",
    "## Setup\n",
    "\n",
    "Run the next cell to import and configure the Python libraries that you need to complete the exercise."
   ]
  },
  {
   "cell_type": "code",
   "execution_count": 1,
   "id": "4543dfcc",
   "metadata": {
    "execution": {
     "iopub.execute_input": "2022-06-25T23:30:38.548670Z",
     "iopub.status.busy": "2022-06-25T23:30:38.548243Z",
     "iopub.status.idle": "2022-06-25T23:30:39.787920Z",
     "shell.execute_reply": "2022-06-25T23:30:39.786769Z"
    },
    "papermill": {
     "duration": 1.2531,
     "end_time": "2022-06-25T23:30:39.790675",
     "exception": false,
     "start_time": "2022-06-25T23:30:38.537575",
     "status": "completed"
    },
    "tags": []
   },
   "outputs": [
    {
     "name": "stdout",
     "output_type": "stream",
     "text": [
      "Setup Complete\n"
     ]
    }
   ],
   "source": [
    "import pandas as pd\n",
    "pd.plotting.register_matplotlib_converters()\n",
    "import matplotlib.pyplot as plt\n",
    "%matplotlib inline\n",
    "import seaborn as sns\n",
    "print(\"Setup Complete\")"
   ]
  },
  {
   "cell_type": "markdown",
   "id": "b5cb6b3d",
   "metadata": {
    "papermill": {
     "duration": 0.009023,
     "end_time": "2022-06-25T23:30:39.809309",
     "exception": false,
     "start_time": "2022-06-25T23:30:39.800286",
     "status": "completed"
    },
    "tags": []
   },
   "source": [
    "The questions below will give you feedback on your work. Run the following cell to set up our feedback system."
   ]
  },
  {
   "cell_type": "code",
   "execution_count": 2,
   "id": "7d5ccae5",
   "metadata": {
    "execution": {
     "iopub.execute_input": "2022-06-25T23:30:39.830283Z",
     "iopub.status.busy": "2022-06-25T23:30:39.829624Z",
     "iopub.status.idle": "2022-06-25T23:30:39.903493Z",
     "shell.execute_reply": "2022-06-25T23:30:39.902574Z"
    },
    "papermill": {
     "duration": 0.087438,
     "end_time": "2022-06-25T23:30:39.906141",
     "exception": false,
     "start_time": "2022-06-25T23:30:39.818703",
     "status": "completed"
    },
    "tags": []
   },
   "outputs": [
    {
     "name": "stdout",
     "output_type": "stream",
     "text": [
      "Setup Complete\n"
     ]
    }
   ],
   "source": [
    "# Set up code checking\n",
    "import os\n",
    "if not os.path.exists(\"../input/candy.csv\"):\n",
    "    os.symlink(\"../input/data-for-datavis/candy.csv\", \"../input/candy.csv\") \n",
    "from learntools.core import binder\n",
    "binder.bind(globals())\n",
    "from learntools.data_viz_to_coder.ex4 import *\n",
    "print(\"Setup Complete\")"
   ]
  },
  {
   "cell_type": "markdown",
   "id": "51f94878",
   "metadata": {
    "papermill": {
     "duration": 0.009471,
     "end_time": "2022-06-25T23:30:39.926590",
     "exception": false,
     "start_time": "2022-06-25T23:30:39.917119",
     "status": "completed"
    },
    "tags": []
   },
   "source": [
    "## Step 1: Load the Data\n",
    "\n",
    "Read the candy data file into `candy_data`.  Use the `\"id\"` column to label the rows."
   ]
  },
  {
   "cell_type": "code",
   "execution_count": 3,
   "id": "37b68f78",
   "metadata": {
    "execution": {
     "iopub.execute_input": "2022-06-25T23:30:39.947680Z",
     "iopub.status.busy": "2022-06-25T23:30:39.946980Z",
     "iopub.status.idle": "2022-06-25T23:30:39.962334Z",
     "shell.execute_reply": "2022-06-25T23:30:39.961511Z"
    },
    "papermill": {
     "duration": 0.028208,
     "end_time": "2022-06-25T23:30:39.964430",
     "exception": false,
     "start_time": "2022-06-25T23:30:39.936222",
     "status": "completed"
    },
    "tags": []
   },
   "outputs": [
    {
     "data": {
      "application/javascript": [
       "parent.postMessage({\"jupyterEvent\": \"custom.exercise_interaction\", \"data\": {\"outcomeType\": 1, \"valueTowardsCompletion\": 0.3333333333333333, \"interactionType\": 1, \"questionType\": 1, \"questionId\": \"1_LoadData\", \"learnToolsVersion\": \"0.3.4\", \"failureMessage\": \"\", \"exceptionClass\": \"\", \"trace\": \"\"}}, \"*\")"
      ],
      "text/plain": [
       "<IPython.core.display.Javascript object>"
      ]
     },
     "metadata": {},
     "output_type": "display_data"
    },
    {
     "data": {
      "text/markdown": [
       "<span style=\"color:#33cc33\">Correct</span>"
      ],
      "text/plain": [
       "Correct"
      ]
     },
     "metadata": {},
     "output_type": "display_data"
    }
   ],
   "source": [
    "# Path of the file to read\n",
    "candy_filepath = \"../input/candy.csv\"\n",
    "\n",
    "# Fill in the line below to read the file into a variable candy_data\n",
    "candy_data = pd.read_csv(candy_filepath, index_col=\"id\")\n",
    "\n",
    "# Run the line below with no changes to check that you've loaded the data correctly\n",
    "step_1.check()"
   ]
  },
  {
   "cell_type": "code",
   "execution_count": 4,
   "id": "b01faf28",
   "metadata": {
    "execution": {
     "iopub.execute_input": "2022-06-25T23:30:39.986571Z",
     "iopub.status.busy": "2022-06-25T23:30:39.985874Z",
     "iopub.status.idle": "2022-06-25T23:30:39.989577Z",
     "shell.execute_reply": "2022-06-25T23:30:39.988841Z"
    },
    "papermill": {
     "duration": 0.017024,
     "end_time": "2022-06-25T23:30:39.991646",
     "exception": false,
     "start_time": "2022-06-25T23:30:39.974622",
     "status": "completed"
    },
    "tags": []
   },
   "outputs": [],
   "source": [
    "# Lines below will give you a hint or solution code\n",
    "#step_1.hint()\n",
    "#step_1.solution()"
   ]
  },
  {
   "cell_type": "markdown",
   "id": "4b717d59",
   "metadata": {
    "papermill": {
     "duration": 0.009537,
     "end_time": "2022-06-25T23:30:40.011856",
     "exception": false,
     "start_time": "2022-06-25T23:30:40.002319",
     "status": "completed"
    },
    "tags": []
   },
   "source": [
    "## Step 2: Review the data\n",
    "\n",
    "Use a Python command to print the first five rows of the data."
   ]
  },
  {
   "cell_type": "code",
   "execution_count": 5,
   "id": "3ea990e0",
   "metadata": {
    "execution": {
     "iopub.execute_input": "2022-06-25T23:30:40.033360Z",
     "iopub.status.busy": "2022-06-25T23:30:40.032945Z",
     "iopub.status.idle": "2022-06-25T23:30:40.054388Z",
     "shell.execute_reply": "2022-06-25T23:30:40.053574Z"
    },
    "papermill": {
     "duration": 0.034732,
     "end_time": "2022-06-25T23:30:40.056478",
     "exception": false,
     "start_time": "2022-06-25T23:30:40.021746",
     "status": "completed"
    },
    "tags": []
   },
   "outputs": [
    {
     "data": {
      "text/html": [
       "<div>\n",
       "<style scoped>\n",
       "    .dataframe tbody tr th:only-of-type {\n",
       "        vertical-align: middle;\n",
       "    }\n",
       "\n",
       "    .dataframe tbody tr th {\n",
       "        vertical-align: top;\n",
       "    }\n",
       "\n",
       "    .dataframe thead th {\n",
       "        text-align: right;\n",
       "    }\n",
       "</style>\n",
       "<table border=\"1\" class=\"dataframe\">\n",
       "  <thead>\n",
       "    <tr style=\"text-align: right;\">\n",
       "      <th></th>\n",
       "      <th>competitorname</th>\n",
       "      <th>chocolate</th>\n",
       "      <th>fruity</th>\n",
       "      <th>caramel</th>\n",
       "      <th>peanutyalmondy</th>\n",
       "      <th>nougat</th>\n",
       "      <th>crispedricewafer</th>\n",
       "      <th>hard</th>\n",
       "      <th>bar</th>\n",
       "      <th>pluribus</th>\n",
       "      <th>sugarpercent</th>\n",
       "      <th>pricepercent</th>\n",
       "      <th>winpercent</th>\n",
       "    </tr>\n",
       "    <tr>\n",
       "      <th>id</th>\n",
       "      <th></th>\n",
       "      <th></th>\n",
       "      <th></th>\n",
       "      <th></th>\n",
       "      <th></th>\n",
       "      <th></th>\n",
       "      <th></th>\n",
       "      <th></th>\n",
       "      <th></th>\n",
       "      <th></th>\n",
       "      <th></th>\n",
       "      <th></th>\n",
       "      <th></th>\n",
       "    </tr>\n",
       "  </thead>\n",
       "  <tbody>\n",
       "    <tr>\n",
       "      <th>0</th>\n",
       "      <td>100 Grand</td>\n",
       "      <td>Yes</td>\n",
       "      <td>No</td>\n",
       "      <td>Yes</td>\n",
       "      <td>No</td>\n",
       "      <td>No</td>\n",
       "      <td>Yes</td>\n",
       "      <td>No</td>\n",
       "      <td>Yes</td>\n",
       "      <td>No</td>\n",
       "      <td>0.732</td>\n",
       "      <td>0.860</td>\n",
       "      <td>66.971725</td>\n",
       "    </tr>\n",
       "    <tr>\n",
       "      <th>1</th>\n",
       "      <td>3 Musketeers</td>\n",
       "      <td>Yes</td>\n",
       "      <td>No</td>\n",
       "      <td>No</td>\n",
       "      <td>No</td>\n",
       "      <td>Yes</td>\n",
       "      <td>No</td>\n",
       "      <td>No</td>\n",
       "      <td>Yes</td>\n",
       "      <td>No</td>\n",
       "      <td>0.604</td>\n",
       "      <td>0.511</td>\n",
       "      <td>67.602936</td>\n",
       "    </tr>\n",
       "    <tr>\n",
       "      <th>2</th>\n",
       "      <td>Air Heads</td>\n",
       "      <td>No</td>\n",
       "      <td>Yes</td>\n",
       "      <td>No</td>\n",
       "      <td>No</td>\n",
       "      <td>No</td>\n",
       "      <td>No</td>\n",
       "      <td>No</td>\n",
       "      <td>No</td>\n",
       "      <td>No</td>\n",
       "      <td>0.906</td>\n",
       "      <td>0.511</td>\n",
       "      <td>52.341465</td>\n",
       "    </tr>\n",
       "    <tr>\n",
       "      <th>3</th>\n",
       "      <td>Almond Joy</td>\n",
       "      <td>Yes</td>\n",
       "      <td>No</td>\n",
       "      <td>No</td>\n",
       "      <td>Yes</td>\n",
       "      <td>No</td>\n",
       "      <td>No</td>\n",
       "      <td>No</td>\n",
       "      <td>Yes</td>\n",
       "      <td>No</td>\n",
       "      <td>0.465</td>\n",
       "      <td>0.767</td>\n",
       "      <td>50.347546</td>\n",
       "    </tr>\n",
       "    <tr>\n",
       "      <th>4</th>\n",
       "      <td>Baby Ruth</td>\n",
       "      <td>Yes</td>\n",
       "      <td>No</td>\n",
       "      <td>Yes</td>\n",
       "      <td>Yes</td>\n",
       "      <td>Yes</td>\n",
       "      <td>No</td>\n",
       "      <td>No</td>\n",
       "      <td>Yes</td>\n",
       "      <td>No</td>\n",
       "      <td>0.604</td>\n",
       "      <td>0.767</td>\n",
       "      <td>56.914547</td>\n",
       "    </tr>\n",
       "  </tbody>\n",
       "</table>\n",
       "</div>"
      ],
      "text/plain": [
       "   competitorname chocolate fruity caramel peanutyalmondy nougat  \\\n",
       "id                                                                 \n",
       "0       100 Grand       Yes     No     Yes             No     No   \n",
       "1    3 Musketeers       Yes     No      No             No    Yes   \n",
       "2       Air Heads        No    Yes      No             No     No   \n",
       "3      Almond Joy       Yes     No      No            Yes     No   \n",
       "4       Baby Ruth       Yes     No     Yes            Yes    Yes   \n",
       "\n",
       "   crispedricewafer hard  bar pluribus  sugarpercent  pricepercent  winpercent  \n",
       "id                                                                              \n",
       "0               Yes   No  Yes       No         0.732         0.860   66.971725  \n",
       "1                No   No  Yes       No         0.604         0.511   67.602936  \n",
       "2                No   No   No       No         0.906         0.511   52.341465  \n",
       "3                No   No  Yes       No         0.465         0.767   50.347546  \n",
       "4                No   No  Yes       No         0.604         0.767   56.914547  "
      ]
     },
     "execution_count": 5,
     "metadata": {},
     "output_type": "execute_result"
    }
   ],
   "source": [
    "# Print the first five rows of the data\n",
    "candy_data.head()"
   ]
  },
  {
   "cell_type": "markdown",
   "id": "ae040743",
   "metadata": {
    "papermill": {
     "duration": 0.009906,
     "end_time": "2022-06-25T23:30:40.076704",
     "exception": false,
     "start_time": "2022-06-25T23:30:40.066798",
     "status": "completed"
    },
    "tags": []
   },
   "source": [
    "The dataset contains 83 rows, where each corresponds to a different candy bar.  There are 13 columns:\n",
    "- `'competitorname'` contains the name of the candy bar. \n",
    "- the next **9** columns (from `'chocolate'` to `'pluribus'`) describe the candy.  For instance, rows with chocolate candies have `\"Yes\"` in the `'chocolate'` column (and candies without chocolate have `\"No\"` in the same column).\n",
    "- `'sugarpercent'` provides some indication of the amount of sugar, where higher values signify higher sugar content.\n",
    "- `'pricepercent'` shows the price per unit, relative to the other candies in the dataset.\n",
    "- `'winpercent'` is calculated from the survey results; higher values indicate that the candy was more popular with survey respondents.\n",
    "\n",
    "Use the first five rows of the data to answer the questions below."
   ]
  },
  {
   "cell_type": "code",
   "execution_count": 6,
   "id": "be8fed43",
   "metadata": {
    "execution": {
     "iopub.execute_input": "2022-06-25T23:30:40.099316Z",
     "iopub.status.busy": "2022-06-25T23:30:40.098568Z",
     "iopub.status.idle": "2022-06-25T23:30:40.107369Z",
     "shell.execute_reply": "2022-06-25T23:30:40.106178Z"
    },
    "papermill": {
     "duration": 0.022695,
     "end_time": "2022-06-25T23:30:40.109705",
     "exception": false,
     "start_time": "2022-06-25T23:30:40.087010",
     "status": "completed"
    },
    "tags": []
   },
   "outputs": [
    {
     "data": {
      "application/javascript": [
       "parent.postMessage({\"jupyterEvent\": \"custom.exercise_interaction\", \"data\": {\"outcomeType\": 1, \"valueTowardsCompletion\": 0.3333333333333333, \"interactionType\": 1, \"questionType\": 1, \"questionId\": \"2_ReviewData\", \"learnToolsVersion\": \"0.3.4\", \"failureMessage\": \"\", \"exceptionClass\": \"\", \"trace\": \"\"}}, \"*\")"
      ],
      "text/plain": [
       "<IPython.core.display.Javascript object>"
      ]
     },
     "metadata": {},
     "output_type": "display_data"
    },
    {
     "data": {
      "text/markdown": [
       "<span style=\"color:#33cc33\">Correct</span>"
      ],
      "text/plain": [
       "Correct"
      ]
     },
     "metadata": {},
     "output_type": "display_data"
    }
   ],
   "source": [
    "# Fill in the line below: Which candy was more popular with survey respondents:\n",
    "# '3 Musketeers' or 'Almond Joy'?  (Please enclose your answer in single quotes.)\n",
    "more_popular = '3 Musketeers'\n",
    "\n",
    "# Fill in the line below: Which candy has higher sugar content: 'Air Heads'\n",
    "# or 'Baby Ruth'? (Please enclose your answer in single quotes.)\n",
    "more_sugar = 'Air Heads'\n",
    "\n",
    "# Check your answers\n",
    "step_2.check()"
   ]
  },
  {
   "cell_type": "code",
   "execution_count": 7,
   "id": "90cdb60f",
   "metadata": {
    "execution": {
     "iopub.execute_input": "2022-06-25T23:30:40.132878Z",
     "iopub.status.busy": "2022-06-25T23:30:40.132182Z",
     "iopub.status.idle": "2022-06-25T23:30:40.135916Z",
     "shell.execute_reply": "2022-06-25T23:30:40.135159Z"
    },
    "papermill": {
     "duration": 0.017696,
     "end_time": "2022-06-25T23:30:40.138031",
     "exception": false,
     "start_time": "2022-06-25T23:30:40.120335",
     "status": "completed"
    },
    "tags": []
   },
   "outputs": [],
   "source": [
    "# Lines below will give you a hint or solution code\n",
    "#step_2.hint()\n",
    "#step_2.solution()"
   ]
  },
  {
   "cell_type": "markdown",
   "id": "7ba965be",
   "metadata": {
    "papermill": {
     "duration": 0.010353,
     "end_time": "2022-06-25T23:30:40.159227",
     "exception": false,
     "start_time": "2022-06-25T23:30:40.148874",
     "status": "completed"
    },
    "tags": []
   },
   "source": [
    "## Step 3: The role of sugar\n",
    "\n",
    "Do people tend to prefer candies with higher sugar content?  \n",
    "\n",
    "#### Part A\n",
    "\n",
    "Create a scatter plot that shows the relationship between `'sugarpercent'` (on the horizontal x-axis) and `'winpercent'` (on the vertical y-axis).  _Don't add a regression line just yet -- you'll do that in the next step!_"
   ]
  },
  {
   "cell_type": "code",
   "execution_count": 8,
   "id": "07fcdf80",
   "metadata": {
    "execution": {
     "iopub.execute_input": "2022-06-25T23:30:40.182343Z",
     "iopub.status.busy": "2022-06-25T23:30:40.181697Z",
     "iopub.status.idle": "2022-06-25T23:30:40.420790Z",
     "shell.execute_reply": "2022-06-25T23:30:40.419634Z"
    },
    "papermill": {
     "duration": 0.253497,
     "end_time": "2022-06-25T23:30:40.423343",
     "exception": false,
     "start_time": "2022-06-25T23:30:40.169846",
     "status": "completed"
    },
    "tags": []
   },
   "outputs": [
    {
     "data": {
      "application/javascript": [
       "parent.postMessage({\"jupyterEvent\": \"custom.exercise_interaction\", \"data\": {\"outcomeType\": 1, \"valueTowardsCompletion\": 0.3333333333333333, \"interactionType\": 1, \"questionType\": 2, \"questionId\": \"3.1_PlotBlueScatter\", \"learnToolsVersion\": \"0.3.4\", \"failureMessage\": \"\", \"exceptionClass\": \"\", \"trace\": \"\"}}, \"*\")"
      ],
      "text/plain": [
       "<IPython.core.display.Javascript object>"
      ]
     },
     "metadata": {},
     "output_type": "display_data"
    },
    {
     "data": {
      "text/markdown": [
       "<span style=\"color:#33cc33\">Correct</span>"
      ],
      "text/plain": [
       "Correct"
      ]
     },
     "metadata": {},
     "output_type": "display_data"
    },
    {
     "data": {
      "image/png": "[encoded data removed]",
      "text/plain": [
       "<Figure size 432x288 with 1 Axes>"
      ]
     },
     "metadata": {
      "needs_background": "light"
     },
     "output_type": "display_data"
    }
   ],
   "source": [
    "# Scatter plot showing the relationship between 'sugarpercent' and 'winpercent'\n",
    "sns.scatterplot(x= candy_data['sugarpercent'], y= candy_data['winpercent'])\n",
    "\n",
    "# Check your answer\n",
    "step_3.a.check()"
   ]
  },
  {
   "cell_type": "code",
   "execution_count": 9,
   "id": "e3779d06",
   "metadata": {
    "execution": {
     "iopub.execute_input": "2022-06-25T23:30:40.447965Z",
     "iopub.status.busy": "2022-06-25T23:30:40.447376Z",
     "iopub.status.idle": "2022-06-25T23:30:40.451229Z",
     "shell.execute_reply": "2022-06-25T23:30:40.450456Z"
    },
    "papermill": {
     "duration": 0.018568,
     "end_time": "2022-06-25T23:30:40.453233",
     "exception": false,
     "start_time": "2022-06-25T23:30:40.434665",
     "status": "completed"
    },
    "tags": []
   },
   "outputs": [],
   "source": [
    "# Lines below will give you a hint or solution code\n",
    "#step_3.a.hint()\n",
    "#step_3.a.solution_plot()"
   ]
  },
  {
   "cell_type": "markdown",
   "id": "7f16ecfc",
   "metadata": {
    "papermill": {
     "duration": 0.010866,
     "end_time": "2022-06-25T23:30:40.475457",
     "exception": false,
     "start_time": "2022-06-25T23:30:40.464591",
     "status": "completed"
    },
    "tags": []
   },
   "source": [
    "#### Part B\n",
    "\n",
    "Does the scatter plot show a **strong** correlation between the two variables?  If so, are candies with more sugar relatively more or less popular with the survey respondents?"
   ]
  },
  {
   "cell_type": "code",
   "execution_count": 10,
   "id": "78a36ff1",
   "metadata": {
    "execution": {
     "iopub.execute_input": "2022-06-25T23:30:40.500087Z",
     "iopub.status.busy": "2022-06-25T23:30:40.499378Z",
     "iopub.status.idle": "2022-06-25T23:30:40.503370Z",
     "shell.execute_reply": "2022-06-25T23:30:40.502613Z"
    },
    "papermill": {
     "duration": 0.018759,
     "end_time": "2022-06-25T23:30:40.505530",
     "exception": false,
     "start_time": "2022-06-25T23:30:40.486771",
     "status": "completed"
    },
    "tags": []
   },
   "outputs": [],
   "source": [
    "#step_3.b.hint()"
   ]
  },
  {
   "cell_type": "code",
   "execution_count": 11,
   "id": "a367492d",
   "metadata": {
    "execution": {
     "iopub.execute_input": "2022-06-25T23:30:40.530378Z",
     "iopub.status.busy": "2022-06-25T23:30:40.529946Z",
     "iopub.status.idle": "2022-06-25T23:30:40.537234Z",
     "shell.execute_reply": "2022-06-25T23:30:40.536432Z"
    },
    "papermill": {
     "duration": 0.022586,
     "end_time": "2022-06-25T23:30:40.539477",
     "exception": false,
     "start_time": "2022-06-25T23:30:40.516891",
     "status": "completed"
    },
    "tags": []
   },
   "outputs": [
    {
     "data": {
      "application/javascript": [
       "parent.postMessage({\"jupyterEvent\": \"custom.exercise_interaction\", \"data\": {\"interactionType\": 3, \"questionType\": 4, \"questionId\": \"3.2_ThinkBlueScatter\", \"learnToolsVersion\": \"0.3.4\", \"valueTowardsCompletion\": 0.0, \"failureMessage\": \"\", \"exceptionClass\": \"\", \"trace\": \"\", \"outcomeType\": 4}}, \"*\")"
      ],
      "text/plain": [
       "<IPython.core.display.Javascript object>"
      ]
     },
     "metadata": {},
     "output_type": "display_data"
    },
    {
     "data": {
      "text/markdown": [
       "<span style=\"color:#33cc99\">Solution:</span> The scatter plot does not show a strong correlation between the two variables. Since there is no clear relationship between the two variables, this tells us that sugar content does not play a strong role in candy popularity."
      ],
      "text/plain": [
       "Solution: The scatter plot does not show a strong correlation between the two variables. Since there is no clear relationship between the two variables, this tells us that sugar content does not play a strong role in candy popularity."
      ]
     },
     "metadata": {},
     "output_type": "display_data"
    }
   ],
   "source": [
    "# Check your answer (Run this code cell to receive credit!)\n",
    "step_3.b.solution()"
   ]
  },
  {
   "cell_type": "markdown",
   "id": "28a8fd00",
   "metadata": {
    "papermill": {
     "duration": 0.011232,
     "end_time": "2022-06-25T23:30:40.562483",
     "exception": false,
     "start_time": "2022-06-25T23:30:40.551251",
     "status": "completed"
    },
    "tags": []
   },
   "source": [
    "## Step 4: Take a closer look\n",
    "\n",
    "#### Part A\n",
    "\n",
    "Create the same scatter plot you created in **Step 3**, but now with a regression line!"
   ]
  },
  {
   "cell_type": "code",
   "execution_count": 12,
   "id": "a9bf7bfd",
   "metadata": {
    "execution": {
     "iopub.execute_input": "2022-06-25T23:30:40.587714Z",
     "iopub.status.busy": "2022-06-25T23:30:40.587332Z",
     "iopub.status.idle": "2022-06-25T23:30:40.896908Z",
     "shell.execute_reply": "2022-06-25T23:30:40.895880Z"
    },
    "papermill": {
     "duration": 0.32513,
     "end_time": "2022-06-25T23:30:40.899579",
     "exception": false,
     "start_time": "2022-06-25T23:30:40.574449",
     "status": "completed"
    },
    "tags": []
   },
   "outputs": [
    {
     "data": {
      "application/javascript": [
       "parent.postMessage({\"jupyterEvent\": \"custom.exercise_interaction\", \"data\": {\"outcomeType\": 1, \"valueTowardsCompletion\": 0.3333333333333333, \"interactionType\": 1, \"questionType\": 2, \"questionId\": \"4.1_PlotBlueReg\", \"learnToolsVersion\": \"0.3.4\", \"failureMessage\": \"\", \"exceptionClass\": \"\", \"trace\": \"\"}}, \"*\")"
      ],
      "text/plain": [
       "<IPython.core.display.Javascript object>"
      ]
     },
     "metadata": {},
     "output_type": "display_data"
    },
    {
     "data": {
      "text/markdown": [
       "<span style=\"color:#33cc33\">Correct</span>"
      ],
      "text/plain": [
       "Correct"
      ]
     },
     "metadata": {},
     "output_type": "display_data"
    },
    {
     "data": {
      "image/png": "[encoded data removed]",
      "text/plain": [
       "<Figure size 432x288 with 1 Axes>"
      ]
     },
     "metadata": {
      "needs_background": "light"
     },
     "output_type": "display_data"
    }
   ],
   "source": [
    "# Scatter plot w/ regression line showing the relationship between 'sugarpercent' and 'winpercent'\n",
    "sns.regplot(x= candy_data['sugarpercent'], y= candy_data['winpercent'])\n",
    "\n",
    "# Check your answer\n",
    "step_4.a.check()"
   ]
  },
  {
   "cell_type": "code",
   "execution_count": 13,
   "id": "390cd346",
   "metadata": {
    "execution": {
     "iopub.execute_input": "2022-06-25T23:30:40.926423Z",
     "iopub.status.busy": "2022-06-25T23:30:40.926009Z",
     "iopub.status.idle": "2022-06-25T23:30:40.930376Z",
     "shell.execute_reply": "2022-06-25T23:30:40.929042Z"
    },
    "papermill": {
     "duration": 0.020831,
     "end_time": "2022-06-25T23:30:40.932671",
     "exception": false,
     "start_time": "2022-06-25T23:30:40.911840",
     "status": "completed"
    },
    "tags": []
   },
   "outputs": [],
   "source": [
    "# Lines below will give you a hint or solution code\n",
    "#step_4.a.hint()\n",
    "#step_4.a.solution_plot()"
   ]
  },
  {
   "cell_type": "markdown",
   "id": "482600c1",
   "metadata": {
    "papermill": {
     "duration": 0.01204,
     "end_time": "2022-06-25T23:30:40.956887",
     "exception": false,
     "start_time": "2022-06-25T23:30:40.944847",
     "status": "completed"
    },
    "tags": []
   },
   "source": [
    "#### Part B\n",
    "\n",
    "According to the plot above, is there a **slight** correlation between `'winpercent'` and `'sugarpercent'`?  What does this tell you about the candy that people tend to prefer?"
   ]
  },
  {
   "cell_type": "code",
   "execution_count": 14,
   "id": "5bcc5fd6",
   "metadata": {
    "execution": {
     "iopub.execute_input": "2022-06-25T23:30:40.983351Z",
     "iopub.status.busy": "2022-06-25T23:30:40.982939Z",
     "iopub.status.idle": "2022-06-25T23:30:40.988013Z",
     "shell.execute_reply": "2022-06-25T23:30:40.987158Z"
    },
    "papermill": {
     "duration": 0.021067,
     "end_time": "2022-06-25T23:30:40.990225",
     "exception": false,
     "start_time": "2022-06-25T23:30:40.969158",
     "status": "completed"
    },
    "tags": []
   },
   "outputs": [],
   "source": [
    "#step_4.b.hint()"
   ]
  },
  {
   "cell_type": "code",
   "execution_count": 15,
   "id": "0aef8726",
   "metadata": {
    "execution": {
     "iopub.execute_input": "2022-06-25T23:30:41.016711Z",
     "iopub.status.busy": "2022-06-25T23:30:41.015948Z",
     "iopub.status.idle": "2022-06-25T23:30:41.023369Z",
     "shell.execute_reply": "2022-06-25T23:30:41.022537Z"
    },
    "papermill": {
     "duration": 0.023025,
     "end_time": "2022-06-25T23:30:41.025394",
     "exception": false,
     "start_time": "2022-06-25T23:30:41.002369",
     "status": "completed"
    },
    "tags": []
   },
   "outputs": [
    {
     "data": {
      "application/javascript": [
       "parent.postMessage({\"jupyterEvent\": \"custom.exercise_interaction\", \"data\": {\"interactionType\": 3, \"questionType\": 4, \"questionId\": \"4.2_ThinkBlueReg\", \"learnToolsVersion\": \"0.3.4\", \"valueTowardsCompletion\": 0.0, \"failureMessage\": \"\", \"exceptionClass\": \"\", \"trace\": \"\", \"outcomeType\": 4}}, \"*\")"
      ],
      "text/plain": [
       "<IPython.core.display.Javascript object>"
      ]
     },
     "metadata": {},
     "output_type": "display_data"
    },
    {
     "data": {
      "text/markdown": [
       "<span style=\"color:#33cc99\">Solution:</span> Since the regression line has a slightly positive slope, this tells us that there is a slightly positive correlation between `'winpercent'` and `'sugarpercent'`. Thus, people have a slight preference for candies containing relatively more sugar."
      ],
      "text/plain": [
       "Solution: Since the regression line has a slightly positive slope, this tells us that there is a slightly positive correlation between `'winpercent'` and `'sugarpercent'`. Thus, people have a slight preference for candies containing relatively more sugar."
      ]
     },
     "metadata": {},
     "output_type": "display_data"
    }
   ],
   "source": [
    "# Check your answer (Run this code cell to receive credit!)\n",
    "step_4.b.solution()"
   ]
  },
  {
   "cell_type": "markdown",
   "id": "ed439de3",
   "metadata": {
    "papermill": {
     "duration": 0.012391,
     "end_time": "2022-06-25T23:30:41.050149",
     "exception": false,
     "start_time": "2022-06-25T23:30:41.037758",
     "status": "completed"
    },
    "tags": []
   },
   "source": [
    "## Step 5: Chocolate!\n",
    "\n",
    "In the code cell below, create a scatter plot to show the relationship between `'pricepercent'` (on the horizontal x-axis) and `'winpercent'` (on the vertical y-axis). Use the `'chocolate'` column to color-code the points.  _Don't add any regression lines just yet -- you'll do that in the next step!_"
   ]
  },
  {
   "cell_type": "code",
   "execution_count": 16,
   "id": "d7c1bd45",
   "metadata": {
    "execution": {
     "iopub.execute_input": "2022-06-25T23:30:41.077034Z",
     "iopub.status.busy": "2022-06-25T23:30:41.076444Z",
     "iopub.status.idle": "2022-06-25T23:30:41.333732Z",
     "shell.execute_reply": "2022-06-25T23:30:41.332631Z"
    },
    "papermill": {
     "duration": 0.273576,
     "end_time": "2022-06-25T23:30:41.336195",
     "exception": false,
     "start_time": "2022-06-25T23:30:41.062619",
     "status": "completed"
    },
    "tags": []
   },
   "outputs": [
    {
     "data": {
      "application/javascript": [
       "parent.postMessage({\"jupyterEvent\": \"custom.exercise_interaction\", \"data\": {\"outcomeType\": 1, \"valueTowardsCompletion\": 0.3333333333333333, \"interactionType\": 1, \"questionType\": 2, \"questionId\": \"5_ColorScatter\", \"learnToolsVersion\": \"0.3.4\", \"failureMessage\": \"\", \"exceptionClass\": \"\", \"trace\": \"\"}}, \"*\")"
      ],
      "text/plain": [
       "<IPython.core.display.Javascript object>"
      ]
     },
     "metadata": {},
     "output_type": "display_data"
    },
    {
     "data": {
      "text/markdown": [
       "<span style=\"color:#33cc33\">Correct</span>"
      ],
      "text/plain": [
       "Correct"
      ]
     },
     "metadata": {},
     "output_type": "display_data"
    },
    {
     "data": {
      "image/png": "[encoded data removed]",
      "text/plain": [
       "<Figure size 432x288 with 1 Axes>"
      ]
     },
     "metadata": {
      "needs_background": "light"
     },
     "output_type": "display_data"
    }
   ],
   "source": [
    "# Scatter plot showing the relationship between 'pricepercent', 'winpercent', and 'chocolate'\n",
    "sns.scatterplot(x= candy_data['sugarpercent'], y= candy_data['winpercent'], hue=candy_data['chocolate'])\n",
    "\n",
    "# Check your answer\n",
    "step_5.check()"
   ]
  },
  {
   "cell_type": "code",
   "execution_count": 17,
   "id": "77571e18",
   "metadata": {
    "execution": {
     "iopub.execute_input": "2022-06-25T23:30:41.364247Z",
     "iopub.status.busy": "2022-06-25T23:30:41.363840Z",
     "iopub.status.idle": "2022-06-25T23:30:41.368653Z",
     "shell.execute_reply": "2022-06-25T23:30:41.367471Z"
    },
    "papermill": {
     "duration": 0.021478,
     "end_time": "2022-06-25T23:30:41.370835",
     "exception": false,
     "start_time": "2022-06-25T23:30:41.349357",
     "status": "completed"
    },
    "tags": []
   },
   "outputs": [],
   "source": [
    "# Lines below will give you a hint or solution code\n",
    "#step_5.hint()\n",
    "#step_5.solution_plot()"
   ]
  },
  {
   "cell_type": "markdown",
   "id": "b0b2d1a5",
   "metadata": {
    "papermill": {
     "duration": 0.012708,
     "end_time": "2022-06-25T23:30:41.396646",
     "exception": false,
     "start_time": "2022-06-25T23:30:41.383938",
     "status": "completed"
    },
    "tags": []
   },
   "source": [
    "Can you see any interesting patterns in the scatter plot?  We'll investigate this plot further  by adding regression lines in the next step!\n",
    "\n",
    "## Step 6: Investigate chocolate\n",
    "\n",
    "#### Part A\n",
    "\n",
    "Create the same scatter plot you created in **Step 5**, but now with two regression lines, corresponding to (1) chocolate candies and (2) candies without chocolate."
   ]
  },
  {
   "cell_type": "code",
   "execution_count": 18,
   "id": "e03d2cf1",
   "metadata": {
    "execution": {
     "iopub.execute_input": "2022-06-25T23:30:41.425152Z",
     "iopub.status.busy": "2022-06-25T23:30:41.423971Z",
     "iopub.status.idle": "2022-06-25T23:30:42.026614Z",
     "shell.execute_reply": "2022-06-25T23:30:42.025762Z"
    },
    "papermill": {
     "duration": 0.619319,
     "end_time": "2022-06-25T23:30:42.028959",
     "exception": false,
     "start_time": "2022-06-25T23:30:41.409640",
     "status": "completed"
    },
    "tags": []
   },
   "outputs": [
    {
     "data": {
      "application/javascript": [
       "parent.postMessage({\"jupyterEvent\": \"custom.exercise_interaction\", \"data\": {\"outcomeType\": 1, \"valueTowardsCompletion\": 0.3333333333333333, \"interactionType\": 1, \"questionType\": 2, \"questionId\": \"6.1_PlotColorReg\", \"learnToolsVersion\": \"0.3.4\", \"failureMessage\": \"\", \"exceptionClass\": \"\", \"trace\": \"\"}}, \"*\")"
      ],
      "text/plain": [
       "<IPython.core.display.Javascript object>"
      ]
     },
     "metadata": {},
     "output_type": "display_data"
    },
    {
     "data": {
      "text/markdown": [
       "<span style=\"color:#33cc33\">Correct</span>"
      ],
      "text/plain": [
       "Correct"
      ]
     },
     "metadata": {},
     "output_type": "display_data"
    },
    {
     "data": {
      "image/png": "[encoded data removed]",
      "text/plain": [
       "<Figure size 416.375x360 with 1 Axes>"
      ]
     },
     "metadata": {
      "needs_background": "light"
     },
     "output_type": "display_data"
    }
   ],
   "source": [
    "# Color-coded scatter plot w/ regression lines\n",
    "sns.lmplot(x= \"sugarpercent\", y= \"winpercent\", hue= \"chocolate\", data= candy_data)\n",
    "\n",
    "# Check your answer\n",
    "step_6.a.check()"
   ]
  },
  {
   "cell_type": "code",
   "execution_count": 19,
   "id": "4ac03d90",
   "metadata": {
    "execution": {
     "iopub.execute_input": "2022-06-25T23:30:42.059347Z",
     "iopub.status.busy": "2022-06-25T23:30:42.058729Z",
     "iopub.status.idle": "2022-06-25T23:30:42.063412Z",
     "shell.execute_reply": "2022-06-25T23:30:42.062254Z"
    },
    "papermill": {
     "duration": 0.022384,
     "end_time": "2022-06-25T23:30:42.065776",
     "exception": false,
     "start_time": "2022-06-25T23:30:42.043392",
     "status": "completed"
    },
    "tags": []
   },
   "outputs": [],
   "source": [
    "# Lines below will give you a hint or solution code\n",
    "#step_6.a.hint()\n",
    "#step_6.a.solution_plot()"
   ]
  },
  {
   "cell_type": "markdown",
   "id": "9bb1a3a0",
   "metadata": {
    "papermill": {
     "duration": 0.01364,
     "end_time": "2022-06-25T23:30:42.093797",
     "exception": false,
     "start_time": "2022-06-25T23:30:42.080157",
     "status": "completed"
    },
    "tags": []
   },
   "source": [
    "#### Part B\n",
    "\n",
    "Using the regression lines, what conclusions can you draw about the effects of chocolate and price on candy popularity?"
   ]
  },
  {
   "cell_type": "code",
   "execution_count": 20,
   "id": "baa1176b",
   "metadata": {
    "execution": {
     "iopub.execute_input": "2022-06-25T23:30:42.124016Z",
     "iopub.status.busy": "2022-06-25T23:30:42.122901Z",
     "iopub.status.idle": "2022-06-25T23:30:42.128036Z",
     "shell.execute_reply": "2022-06-25T23:30:42.127312Z"
    },
    "papermill": {
     "duration": 0.022503,
     "end_time": "2022-06-25T23:30:42.130211",
     "exception": false,
     "start_time": "2022-06-25T23:30:42.107708",
     "status": "completed"
    },
    "tags": []
   },
   "outputs": [],
   "source": [
    "#step_6.b.hint()"
   ]
  },
  {
   "cell_type": "code",
   "execution_count": 21,
   "id": "5c670411",
   "metadata": {
    "execution": {
     "iopub.execute_input": "2022-06-25T23:30:42.160379Z",
     "iopub.status.busy": "2022-06-25T23:30:42.159762Z",
     "iopub.status.idle": "2022-06-25T23:30:42.169340Z",
     "shell.execute_reply": "2022-06-25T23:30:42.168246Z"
    },
    "papermill": {
     "duration": 0.027295,
     "end_time": "2022-06-25T23:30:42.171528",
     "exception": false,
     "start_time": "2022-06-25T23:30:42.144233",
     "status": "completed"
    },
    "tags": []
   },
   "outputs": [
    {
     "data": {
      "application/javascript": [
       "parent.postMessage({\"jupyterEvent\": \"custom.exercise_interaction\", \"data\": {\"interactionType\": 3, \"questionType\": 4, \"questionId\": \"6.2_ThinkColorReg\", \"learnToolsVersion\": \"0.3.4\", \"valueTowardsCompletion\": 0.0, \"failureMessage\": \"\", \"exceptionClass\": \"\", \"trace\": \"\", \"outcomeType\": 4}}, \"*\")"
      ],
      "text/plain": [
       "<IPython.core.display.Javascript object>"
      ]
     },
     "metadata": {},
     "output_type": "display_data"
    },
    {
     "data": {
      "text/markdown": [
       "<span style=\"color:#33cc99\">Solution:</span> We'll begin with the regression line for chocolate candies. Since this line has a slightly positive slope, we can say that more expensive chocolate candies tend to be more popular (than relatively cheaper chocolate candies).  Likewise, since the regression line for candies without chocolate has a negative slope, we can say that if candies don't contain chocolate, they tend to be more popular when they are cheaper.  One important note, however, is that the dataset is quite small -- so we shouldn't invest too much trust in these patterns!  To inspire more confidence in the results, we should add more candies to the dataset."
      ],
      "text/plain": [
       "Solution: We'll begin with the regression line for chocolate candies. Since this line has a slightly positive slope, we can say that more expensive chocolate candies tend to be more popular (than relatively cheaper chocolate candies).  Likewise, since the regression line for candies without chocolate has a negative slope, we can say that if candies don't contain chocolate, they tend to be more popular when they are cheaper.  One important note, however, is that the dataset is quite small -- so we shouldn't invest too much trust in these patterns!  To inspire more confidence in the results, we should add more candies to the dataset."
      ]
     },
     "metadata": {},
     "output_type": "display_data"
    }
   ],
   "source": [
    "# Check your answer (Run this code cell to receive credit!)\n",
    "step_6.b.solution()"
   ]
  },
  {
   "cell_type": "markdown",
   "id": "fffdb6aa",
   "metadata": {
    "papermill": {
     "duration": 0.014049,
     "end_time": "2022-06-25T23:30:42.199650",
     "exception": false,
     "start_time": "2022-06-25T23:30:42.185601",
     "status": "completed"
    },
    "tags": []
   },
   "source": [
    "## Step 7: Everybody loves chocolate.\n",
    "\n",
    "#### Part A\n",
    "\n",
    "Create a categorical scatter plot to highlight the relationship between `'chocolate'` and `'winpercent'`.  Put `'chocolate'` on the (horizontal) x-axis, and `'winpercent'` on the (vertical) y-axis."
   ]
  },
  {
   "cell_type": "code",
   "execution_count": 22,
   "id": "5a9c4de9",
   "metadata": {
    "execution": {
     "iopub.execute_input": "2022-06-25T23:30:42.230394Z",
     "iopub.status.busy": "2022-06-25T23:30:42.229990Z",
     "iopub.status.idle": "2022-06-25T23:30:42.419615Z",
     "shell.execute_reply": "2022-06-25T23:30:42.418710Z"
    },
    "papermill": {
     "duration": 0.207955,
     "end_time": "2022-06-25T23:30:42.421902",
     "exception": false,
     "start_time": "2022-06-25T23:30:42.213947",
     "status": "completed"
    },
    "tags": []
   },
   "outputs": [
    {
     "data": {
      "application/javascript": [
       "parent.postMessage({\"jupyterEvent\": \"custom.exercise_interaction\", \"data\": {\"outcomeType\": 1, \"valueTowardsCompletion\": 0.3333333333333333, \"interactionType\": 1, \"questionType\": 2, \"questionId\": \"7.1_PlotSwarm\", \"learnToolsVersion\": \"0.3.4\", \"failureMessage\": \"\", \"exceptionClass\": \"\", \"trace\": \"\"}}, \"*\")"
      ],
      "text/plain": [
       "<IPython.core.display.Javascript object>"
      ]
     },
     "metadata": {},
     "output_type": "display_data"
    },
    {
     "data": {
      "text/markdown": [
       "<span style=\"color:#33cc33\">Correct</span>"
      ],
      "text/plain": [
       "Correct"
      ]
     },
     "metadata": {},
     "output_type": "display_data"
    },
    {
     "data": {
      "image/png": "[encoded data removed]",
      "text/plain": [
       "<Figure size 432x288 with 1 Axes>"
      ]
     },
     "metadata": {
      "needs_background": "light"
     },
     "output_type": "display_data"
    }
   ],
   "source": [
    "# Scatter plot showing the relationship between 'chocolate' and 'winpercent'\n",
    "sns.swarmplot(x= candy_data['chocolate'], y= candy_data['winpercent'])\n",
    "\n",
    "# Check your answer\n",
    "step_7.a.check()"
   ]
  },
  {
   "cell_type": "code",
   "execution_count": 23,
   "id": "c8bd7e91",
   "metadata": {
    "execution": {
     "iopub.execute_input": "2022-06-25T23:30:42.453865Z",
     "iopub.status.busy": "2022-06-25T23:30:42.453255Z",
     "iopub.status.idle": "2022-06-25T23:30:42.457540Z",
     "shell.execute_reply": "2022-06-25T23:30:42.456747Z"
    },
    "papermill": {
     "duration": 0.022626,
     "end_time": "2022-06-25T23:30:42.459478",
     "exception": false,
     "start_time": "2022-06-25T23:30:42.436852",
     "status": "completed"
    },
    "tags": []
   },
   "outputs": [],
   "source": [
    "# Lines below will give you a hint or solution code\n",
    "#step_7.a.hint()\n",
    "#step_7.a.solution_plot()"
   ]
  },
  {
   "cell_type": "markdown",
   "id": "f6288205",
   "metadata": {
    "papermill": {
     "duration": 0.014434,
     "end_time": "2022-06-25T23:30:42.488897",
     "exception": false,
     "start_time": "2022-06-25T23:30:42.474463",
     "status": "completed"
    },
    "tags": []
   },
   "source": [
    "#### Part B\n",
    "\n",
    "You decide to dedicate a section of your report to the fact that chocolate candies tend to be more popular than candies without chocolate.  Which plot is more appropriate to tell this story: the plot from **Step 6**, or the plot from **Step 7**?"
   ]
  },
  {
   "cell_type": "code",
   "execution_count": 24,
   "id": "68bbc3e6",
   "metadata": {
    "execution": {
     "iopub.execute_input": "2022-06-25T23:30:42.520275Z",
     "iopub.status.busy": "2022-06-25T23:30:42.519815Z",
     "iopub.status.idle": "2022-06-25T23:30:42.524050Z",
     "shell.execute_reply": "2022-06-25T23:30:42.523034Z"
    },
    "papermill": {
     "duration": 0.022522,
     "end_time": "2022-06-25T23:30:42.526199",
     "exception": false,
     "start_time": "2022-06-25T23:30:42.503677",
     "status": "completed"
    },
    "tags": []
   },
   "outputs": [],
   "source": [
    "#step_7.b.hint()"
   ]
  },
  {
   "cell_type": "code",
   "execution_count": 25,
   "id": "bf8d1b08",
   "metadata": {
    "execution": {
     "iopub.execute_input": "2022-06-25T23:30:42.557582Z",
     "iopub.status.busy": "2022-06-25T23:30:42.556856Z",
     "iopub.status.idle": "2022-06-25T23:30:42.564959Z",
     "shell.execute_reply": "2022-06-25T23:30:42.564224Z"
    },
    "papermill": {
     "duration": 0.026286,
     "end_time": "2022-06-25T23:30:42.567271",
     "exception": false,
     "start_time": "2022-06-25T23:30:42.540985",
     "status": "completed"
    },
    "tags": []
   },
   "outputs": [
    {
     "data": {
      "application/javascript": [
       "parent.postMessage({\"jupyterEvent\": \"custom.exercise_interaction\", \"data\": {\"interactionType\": 3, \"questionType\": 4, \"questionId\": \"7.2_ThinkSwarm\", \"learnToolsVersion\": \"0.3.4\", \"valueTowardsCompletion\": 0.0, \"failureMessage\": \"\", \"exceptionClass\": \"\", \"trace\": \"\", \"outcomeType\": 4}}, \"*\")"
      ],
      "text/plain": [
       "<IPython.core.display.Javascript object>"
      ]
     },
     "metadata": {},
     "output_type": "display_data"
    },
    {
     "data": {
      "text/markdown": [
       "<span style=\"color:#33cc99\">Solution:</span> In this case, the categorical scatter plot from **Step 7** is the more appropriate plot. While both plots tell the desired story, the plot from **Step 6** conveys far more information that could distract from the main point."
      ],
      "text/plain": [
       "Solution: In this case, the categorical scatter plot from **Step 7** is the more appropriate plot. While both plots tell the desired story, the plot from **Step 6** conveys far more information that could distract from the main point."
      ]
     },
     "metadata": {},
     "output_type": "display_data"
    }
   ],
   "source": [
    "# Check your answer (Run this code cell to receive credit!)\n",
    "step_7.b.solution()"
   ]
  },
  {
   "cell_type": "markdown",
   "id": "4e69e0da",
   "metadata": {
    "papermill": {
     "duration": 0.014568,
     "end_time": "2022-06-25T23:30:42.596814",
     "exception": false,
     "start_time": "2022-06-25T23:30:42.582246",
     "status": "completed"
    },
    "tags": []
   },
   "source": [
    "## Keep going\n",
    "\n",
    "Explore **[histograms and density plots](https://www.kaggle.com/alexisbcook/distributions)**."
   ]
  },
  {
   "cell_type": "markdown",
   "id": "4ee62878",
   "metadata": {
    "papermill": {
     "duration": 0.014708,
     "end_time": "2022-06-25T23:30:42.626464",
     "exception": false,
     "start_time": "2022-06-25T23:30:42.611756",
     "status": "completed"
    },
    "tags": []
   },
   "source": [
    "---\n",
    "\n",
    "\n",
    "\n",
    "\n",
    "*Have questions or comments? Visit the [course discussion forum](https://www.kaggle.com/learn/data-visualization/discussion) to chat with other learners.*"
   ]
  }
 ],
 "metadata": {
  "kernelspec": {
   "display_name": "Python 3",
   "language": "python",
   "name": "python3"
  },
  "language_info": {
   "codemirror_mode": {
    "name": "ipython",
    "version": 3
   },
   "file_extension": ".py",
   "mimetype": "text/x-python",
   "name": "python",
   "nbconvert_exporter": "python",
   "pygments_lexer": "ipython3",
   "version": "3.7.12"
  },
  "papermill": {
   "default_parameters": {},
   "duration": 15.154414,
   "end_time": "2022-06-25T23:30:43.363680",
   "environment_variables": {},
   "exception": null,
   "input_path": "__notebook__.ipynb",
   "output_path": "__notebook__.ipynb",
   "parameters": {},
   "start_time": "2022-06-25T23:30:28.209266",
   "version": "2.3.4"
  }
 },
 "nbformat": 4,
 "nbformat_minor": 5
}
